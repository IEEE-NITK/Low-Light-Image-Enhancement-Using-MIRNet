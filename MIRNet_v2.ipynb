{
  "nbformat": 4,
  "nbformat_minor": 0,
  "metadata": {
    "colab": {
      "provenance": []
    },
    "kernelspec": {
      "name": "python3",
      "display_name": "Python 3"
    },
    "language_info": {
      "name": "python"
    },
    "accelerator": "GPU",
    "gpuClass": "standard"
  },
  "cells": [
    {
      "cell_type": "code",
      "execution_count": 1,
      "metadata": {
        "id": "L03da8Lvd0Gr"
      },
      "outputs": [],
      "source": [
        "import os\n",
        "import cv2\n",
        "import random\n",
        "import numpy as np\n",
        "from glob import glob\n",
        "from PIL import Image, ImageOps\n",
        "import matplotlib.pyplot as plt\n",
        "\n",
        "import tensorflow as tf\n",
        "from tensorflow import keras\n",
        "from tensorflow.keras import layers"
      ]
    },
    {
      "cell_type": "code",
      "source": [
        "from google.colab import drive"
      ],
      "metadata": {
        "id": "ZI19ptKef2yi"
      },
      "execution_count": 2,
      "outputs": []
    },
    {
      "cell_type": "code",
      "source": [
        "!pip install --upgrade --no-cache-dir gdown"
      ],
      "metadata": {
        "colab": {
          "base_uri": "https://localhost:8080/"
        },
        "id": "i3wx_uhCgtJO",
        "outputId": "00c59743-cf8d-4f9b-e8a0-cbc93c2cf436"
      },
      "execution_count": 3,
      "outputs": [
        {
          "output_type": "stream",
          "name": "stdout",
          "text": [
            "Looking in indexes: https://pypi.org/simple, https://us-python.pkg.dev/colab-wheels/public/simple/\n",
            "Requirement already satisfied: gdown in /usr/local/lib/python3.8/dist-packages (4.4.0)\n",
            "Collecting gdown\n",
            "  Downloading gdown-4.6.0-py3-none-any.whl (14 kB)\n",
            "Requirement already satisfied: tqdm in /usr/local/lib/python3.8/dist-packages (from gdown) (4.64.1)\n",
            "Requirement already satisfied: six in /usr/local/lib/python3.8/dist-packages (from gdown) (1.15.0)\n",
            "Requirement already satisfied: filelock in /usr/local/lib/python3.8/dist-packages (from gdown) (3.9.0)\n",
            "Requirement already satisfied: requests[socks] in /usr/local/lib/python3.8/dist-packages (from gdown) (2.25.1)\n",
            "Requirement already satisfied: beautifulsoup4 in /usr/local/lib/python3.8/dist-packages (from gdown) (4.6.3)\n",
            "Requirement already satisfied: idna<3,>=2.5 in /usr/local/lib/python3.8/dist-packages (from requests[socks]->gdown) (2.10)\n",
            "Requirement already satisfied: certifi>=2017.4.17 in /usr/local/lib/python3.8/dist-packages (from requests[socks]->gdown) (2022.12.7)\n",
            "Requirement already satisfied: chardet<5,>=3.0.2 in /usr/local/lib/python3.8/dist-packages (from requests[socks]->gdown) (4.0.0)\n",
            "Requirement already satisfied: urllib3<1.27,>=1.21.1 in /usr/local/lib/python3.8/dist-packages (from requests[socks]->gdown) (1.24.3)\n",
            "Requirement already satisfied: PySocks!=1.5.7,>=1.5.6 in /usr/local/lib/python3.8/dist-packages (from requests[socks]->gdown) (1.7.1)\n",
            "Installing collected packages: gdown\n",
            "  Attempting uninstall: gdown\n",
            "    Found existing installation: gdown 4.4.0\n",
            "    Uninstalling gdown-4.4.0:\n",
            "      Successfully uninstalled gdown-4.4.0\n",
            "Successfully installed gdown-4.6.0\n"
          ]
        }
      ]
    },
    {
      "cell_type": "code",
      "source": [
        "!gdown https://drive.google.com/uc?id=1DdGIJ4PZPlF2ikl8mNM9V-PdVxVLbQi6\n",
        "!unzip -q lol_dataset.zip"
      ],
      "metadata": {
        "colab": {
          "base_uri": "https://localhost:8080/"
        },
        "id": "AbdSGamseazQ",
        "outputId": "b2777abd-41fd-4088-a31c-03651f34d938"
      },
      "execution_count": 4,
      "outputs": [
        {
          "output_type": "stream",
          "name": "stdout",
          "text": [
            "Downloading...\n",
            "From: https://drive.google.com/uc?id=1DdGIJ4PZPlF2ikl8mNM9V-PdVxVLbQi6\n",
            "To: /content/lol_dataset.zip\n",
            "100% 347M/347M [00:03<00:00, 113MB/s]\n"
          ]
        }
      ]
    },
    {
      "cell_type": "code",
      "source": [
        "random.seed(10)\n",
        "\n",
        "IMAGE_SIZE = 128\n",
        "BATCH_SIZE = 4\n",
        "MAX_TRAIN_IMAGES = 300\n",
        "\n",
        "\n",
        "def read_image(image_path):\n",
        "    image = tf.io.read_file(image_path)\n",
        "    image = tf.image.decode_png(image, channels=3)\n",
        "    image.set_shape([None, None, 3])\n",
        "    image = tf.cast(image, dtype=tf.float32) / 255.0\n",
        "    return image\n",
        "\n",
        "\n",
        "def random_crop(low_image, enhanced_image):\n",
        "    low_image_shape = tf.shape(low_image)[:2]\n",
        "    low_w = tf.random.uniform(\n",
        "        shape=(), maxval=low_image_shape[1] - IMAGE_SIZE + 1, dtype=tf.int32\n",
        "    )\n",
        "    low_h = tf.random.uniform(\n",
        "        shape=(), maxval=low_image_shape[0] - IMAGE_SIZE + 1, dtype=tf.int32\n",
        "    )\n",
        "    enhanced_w = low_w\n",
        "    enhanced_h = low_h\n",
        "    low_image_cropped = low_image[\n",
        "        low_h : low_h + IMAGE_SIZE, low_w : low_w + IMAGE_SIZE\n",
        "    ]\n",
        "    enhanced_image_cropped = enhanced_image[\n",
        "        enhanced_h : enhanced_h + IMAGE_SIZE, enhanced_w : enhanced_w + IMAGE_SIZE\n",
        "    ]\n",
        "    return low_image_cropped, enhanced_image_cropped\n",
        "\n",
        "\n",
        "def load_data(low_light_image_path, enhanced_image_path):\n",
        "    low_light_image = read_image(low_light_image_path)\n",
        "    enhanced_image = read_image(enhanced_image_path)\n",
        "    low_light_image, enhanced_image = random_crop(low_light_image, enhanced_image)\n",
        "    return low_light_image, enhanced_image\n",
        "\n",
        "\n",
        "def get_dataset(low_light_images, enhanced_images):\n",
        "    dataset = tf.data.Dataset.from_tensor_slices((low_light_images, enhanced_images))\n",
        "    dataset = dataset.map(load_data, num_parallel_calls=tf.data.AUTOTUNE)\n",
        "    dataset = dataset.batch(BATCH_SIZE, drop_remainder=True)\n",
        "    return dataset\n",
        "\n",
        "\n",
        "train_low_light_images = sorted(glob(\"./lol_dataset/our485/low/*\"))[:MAX_TRAIN_IMAGES]\n",
        "train_enhanced_images = sorted(glob(\"./lol_dataset/our485/high/*\"))[:MAX_TRAIN_IMAGES]\n",
        "\n",
        "val_low_light_images = sorted(glob(\"./lol_dataset/our485/low/*\"))[MAX_TRAIN_IMAGES:]\n",
        "val_enhanced_images = sorted(glob(\"./lol_dataset/our485/high/*\"))[MAX_TRAIN_IMAGES:]\n",
        "\n",
        "test_low_light_images = sorted(glob(\"./lol_dataset/eval15/low/*\"))\n",
        "test_enhanced_images = sorted(glob(\"./lol_dataset/eval15/high/*\"))\n",
        "\n",
        "\n",
        "train_dataset = get_dataset(train_low_light_images, train_enhanced_images)\n",
        "val_dataset = get_dataset(val_low_light_images, val_enhanced_images)\n",
        "\n",
        "\n",
        "print(\"Train Dataset:\", train_dataset)\n",
        "print(\"Val Dataset:\", val_dataset)"
      ],
      "metadata": {
        "colab": {
          "base_uri": "https://localhost:8080/"
        },
        "id": "PKrOOY_hebge",
        "outputId": "af519278-e6d2-4ed1-e5e5-b7c20b2984f7"
      },
      "execution_count": 5,
      "outputs": [
        {
          "output_type": "stream",
          "name": "stdout",
          "text": [
            "Train Dataset: <BatchDataset element_spec=(TensorSpec(shape=(4, None, None, 3), dtype=tf.float32, name=None), TensorSpec(shape=(4, None, None, 3), dtype=tf.float32, name=None))>\n",
            "Val Dataset: <BatchDataset element_spec=(TensorSpec(shape=(4, None, None, 3), dtype=tf.float32, name=None), TensorSpec(shape=(4, None, None, 3), dtype=tf.float32, name=None))>\n"
          ]
        }
      ]
    },
    {
      "cell_type": "code",
      "source": [
        "def selective_kernel_feature_fusion(\n",
        "    multi_scale_feature_1, multi_scale_feature_2, multi_scale_feature_3\n",
        "):\n",
        "    channels = list(multi_scale_feature_1.shape)[-1]\n",
        "    combined_feature = layers.Add()(\n",
        "        [multi_scale_feature_1, multi_scale_feature_2, multi_scale_feature_3]\n",
        "    )\n",
        "    gap = layers.GlobalAveragePooling2D()(combined_feature)\n",
        "    channel_wise_statistics = tf.reshape(gap, shape=(-1, 1, 1, channels))\n",
        "    compact_feature_representation = layers.Conv2D(\n",
        "        filters=channels // 8, kernel_size=(1, 1), activation=\"relu\"\n",
        "    )(channel_wise_statistics)\n",
        "    feature_descriptor_1 = layers.Conv2D(\n",
        "        channels, kernel_size=(1, 1), activation=\"softmax\"\n",
        "    )(compact_feature_representation)\n",
        "    feature_descriptor_2 = layers.Conv2D(\n",
        "        channels, kernel_size=(1, 1), activation=\"softmax\"\n",
        "    )(compact_feature_representation)\n",
        "    feature_descriptor_3 = layers.Conv2D(\n",
        "        channels, kernel_size=(1, 1), activation=\"softmax\"\n",
        "    )(compact_feature_representation)\n",
        "    feature_1 = multi_scale_feature_1 * feature_descriptor_1\n",
        "    feature_2 = multi_scale_feature_2 * feature_descriptor_2\n",
        "    feature_3 = multi_scale_feature_3 * feature_descriptor_3\n",
        "    aggregated_feature = layers.Add()([feature_1, feature_2, feature_3])\n",
        "    return aggregated_feature"
      ],
      "metadata": {
        "id": "fNZkOFpRegV_"
      },
      "execution_count": 6,
      "outputs": []
    },
    {
      "cell_type": "code",
      "source": [
        "def spatial_attention_block(input_tensor):\n",
        "    average_pooling = tf.reduce_max(input_tensor, axis=-1)\n",
        "    average_pooling = tf.expand_dims(average_pooling, axis=-1)\n",
        "    max_pooling = tf.reduce_mean(input_tensor, axis=-1)\n",
        "    max_pooling = tf.expand_dims(max_pooling, axis=-1)\n",
        "    concatenated = layers.Concatenate(axis=-1)([average_pooling, max_pooling])\n",
        "    feature_map = layers.Conv2D(1, kernel_size=(1, 1))(concatenated)\n",
        "    feature_map = tf.nn.sigmoid(feature_map)\n",
        "    return input_tensor * feature_map\n",
        "\n",
        "\n",
        "def channel_attention_block(input_tensor):\n",
        "    channels = list(input_tensor.shape)[-1]\n",
        "    average_pooling = layers.GlobalAveragePooling2D()(input_tensor)\n",
        "    feature_descriptor = tf.reshape(average_pooling, shape=(-1, 1, 1, channels))\n",
        "    feature_activations = layers.Conv2D(\n",
        "        filters=channels // 8, kernel_size=(1, 1), activation=\"relu\"\n",
        "    )(feature_descriptor)\n",
        "    feature_activations = layers.Conv2D(\n",
        "        filters=channels, kernel_size=(1, 1), activation=\"sigmoid\"\n",
        "    )(feature_activations)\n",
        "    return input_tensor * feature_activations\n",
        "\n",
        "\n",
        "def dual_attention_unit_block(input_tensor):\n",
        "    channels = list(input_tensor.shape)[-1]\n",
        "    feature_map = layers.Conv2D(\n",
        "        channels, kernel_size=(3, 3), padding=\"same\", activation=\"relu\"\n",
        "    )(input_tensor)\n",
        "    feature_map = layers.Conv2D(channels, kernel_size=(3, 3), padding=\"same\")(\n",
        "        feature_map\n",
        "    )\n",
        "    channel_attention = channel_attention_block(feature_map)\n",
        "    spatial_attention = spatial_attention_block(feature_map)\n",
        "    concatenation = layers.Concatenate(axis=-1)([channel_attention, spatial_attention])\n",
        "    concatenation = layers.Conv2D(channels, kernel_size=(1, 1))(concatenation)\n",
        "    return layers.Add()([input_tensor, concatenation])"
      ],
      "metadata": {
        "id": "Ms1M7LtWekIm"
      },
      "execution_count": 7,
      "outputs": []
    },
    {
      "cell_type": "code",
      "source": [
        "# Recursive Residual Modules\n",
        "\n",
        "\n",
        "def down_sampling_module(input_tensor):\n",
        "    channels = list(input_tensor.shape)[-1]\n",
        "    main_branch = layers.Conv2D(channels, kernel_size=(1, 1), activation=\"relu\")(\n",
        "        input_tensor\n",
        "    )\n",
        "    main_branch = layers.Conv2D(\n",
        "        channels, kernel_size=(3, 3), padding=\"same\", activation=\"relu\"\n",
        "    )(main_branch)\n",
        "    main_branch = layers.MaxPooling2D()(main_branch)\n",
        "    main_branch = layers.Conv2D(channels * 2, kernel_size=(1, 1))(main_branch)\n",
        "    skip_branch = layers.MaxPooling2D()(input_tensor)\n",
        "    skip_branch = layers.Conv2D(channels * 2, kernel_size=(1, 1))(skip_branch)\n",
        "    return layers.Add()([skip_branch, main_branch])\n",
        "\n",
        "\n",
        "def up_sampling_module(input_tensor):\n",
        "    channels = list(input_tensor.shape)[-1]\n",
        "    main_branch = layers.Conv2D(channels, kernel_size=(1, 1), activation=\"relu\")(\n",
        "        input_tensor\n",
        "    )\n",
        "    main_branch = layers.Conv2D(\n",
        "        channels, kernel_size=(3, 3), padding=\"same\", activation=\"relu\"\n",
        "    )(main_branch)\n",
        "    main_branch = layers.UpSampling2D()(main_branch)\n",
        "    main_branch = layers.Conv2D(channels // 2, kernel_size=(1, 1))(main_branch)\n",
        "    skip_branch = layers.UpSampling2D()(input_tensor)\n",
        "    skip_branch = layers.Conv2D(channels // 2, kernel_size=(1, 1))(skip_branch)\n",
        "    return layers.Add()([skip_branch, main_branch])\n",
        "\n",
        "\n",
        "# MRB Block\n",
        "def multi_scale_residual_block(input_tensor, channels):\n",
        "    # features\n",
        "    level1 = input_tensor\n",
        "    level2 = down_sampling_module(input_tensor)\n",
        "    level3 = down_sampling_module(level2)\n",
        "    # DAU\n",
        "    level1_dau = dual_attention_unit_block(level1)\n",
        "    level2_dau = dual_attention_unit_block(level2)\n",
        "    level3_dau = dual_attention_unit_block(level3)\n",
        "    # SKFF\n",
        "    level1_skff = selective_kernel_feature_fusion(\n",
        "        level1_dau,\n",
        "        up_sampling_module(level2_dau),\n",
        "        up_sampling_module(up_sampling_module(level3_dau)),\n",
        "    )\n",
        "    level2_skff = selective_kernel_feature_fusion(\n",
        "        down_sampling_module(level1_dau), level2_dau, up_sampling_module(level3_dau)\n",
        "    )\n",
        "    level3_skff = selective_kernel_feature_fusion(\n",
        "        down_sampling_module(down_sampling_module(level1_dau)),\n",
        "        down_sampling_module(level2_dau),\n",
        "        level3_dau,\n",
        "    )\n",
        "    # DAU 2\n",
        "    level1_dau_2 = dual_attention_unit_block(level1_skff)\n",
        "    level2_dau_2 = up_sampling_module((dual_attention_unit_block(level2_skff)))\n",
        "    level3_dau_2 = up_sampling_module(\n",
        "        up_sampling_module(dual_attention_unit_block(level3_skff))\n",
        "    )\n",
        "    # SKFF 2\n",
        "    skff_ = selective_kernel_feature_fusion(level1_dau_2, level2_dau_2, level3_dau_2)\n",
        "    conv = layers.Conv2D(channels, kernel_size=(3, 3), padding=\"same\")(skff_)\n",
        "    return layers.Add()([input_tensor, conv])"
      ],
      "metadata": {
        "id": "6WyT3teeeqA0"
      },
      "execution_count": 8,
      "outputs": []
    },
    {
      "cell_type": "code",
      "source": [
        "def recursive_residual_group(input_tensor, num_mrb, channels):\n",
        "    conv1 = layers.Conv2D(channels, kernel_size=(3, 3), padding=\"same\")(input_tensor)\n",
        "    for _ in range(num_mrb):\n",
        "        conv1 = multi_scale_residual_block(conv1, channels)\n",
        "    conv2 = layers.Conv2D(channels, kernel_size=(3, 3), padding=\"same\")(conv1)\n",
        "    return layers.Add()([conv2, input_tensor])\n",
        "\n",
        "\n",
        "def mirnet_model(num_rrg, num_mrb, channels):\n",
        "    input_tensor = keras.Input(shape=[None, None, 3])\n",
        "    x1 = layers.Conv2D(channels, kernel_size=(3, 3), padding=\"same\")(input_tensor)\n",
        "    for _ in range(num_rrg):\n",
        "        x1 = recursive_residual_group(x1, num_mrb, channels)\n",
        "    conv = layers.Conv2D(3, kernel_size=(3, 3), padding=\"same\")(x1)\n",
        "    output_tensor = layers.Add()([input_tensor, conv])\n",
        "    return keras.Model(input_tensor, output_tensor)\n",
        "\n",
        "\n",
        "model = mirnet_model(num_rrg=2, num_mrb=2, channels=64)"
      ],
      "metadata": {
        "id": "mzqR-BeMevzY"
      },
      "execution_count": 9,
      "outputs": []
    },
    {
      "cell_type": "code",
      "source": [
        "def charbonnier_loss(y_true, y_pred):\n",
        "    return tf.reduce_mean(tf.sqrt(tf.square(y_true - y_pred) + tf.square(1e-3)))\n",
        "\n",
        "\n",
        "def peak_signal_noise_ratio(y_true, y_pred):\n",
        "    return tf.image.psnr(y_pred, y_true, max_val=255.0)\n",
        "\n",
        "\n",
        "optimizer = keras.optimizers.Adam(learning_rate=1e-4)\n",
        "model.compile(\n",
        "    optimizer=optimizer, loss=charbonnier_loss, metrics=[peak_signal_noise_ratio]\n",
        ")\n",
        "\n",
        "history = model.fit(\n",
        "    train_dataset,\n",
        "    validation_data=val_dataset,\n",
        "    epochs=50,\n",
        "    callbacks=[\n",
        "        keras.callbacks.ReduceLROnPlateau(\n",
        "            monitor=\"val_peak_signal_noise_ratio\",\n",
        "            factor=0.5,\n",
        "            patience=5,\n",
        "            verbose=1,\n",
        "            min_delta=1e-7,\n",
        "            mode=\"max\",\n",
        "        )\n",
        "    ],\n",
        ")\n",
        "\n",
        "plt.plot(history.history[\"loss\"], label=\"train_loss\")\n",
        "plt.plot(history.history[\"val_loss\"], label=\"val_loss\")\n",
        "plt.xlabel(\"Epochs\")\n",
        "plt.ylabel(\"Loss\")\n",
        "plt.title(\"Train and Validation Losses Over Epochs\", fontsize=14)\n",
        "plt.legend()\n",
        "plt.grid()\n",
        "plt.show()\n",
        "\n",
        "\n",
        "plt.plot(history.history[\"peak_signal_noise_ratio\"], label=\"train_psnr\")\n",
        "plt.plot(history.history[\"val_peak_signal_noise_ratio\"], label=\"val_psnr\")\n",
        "plt.xlabel(\"Epochs\")\n",
        "plt.ylabel(\"PSNR\")\n",
        "plt.title(\"Train and Validation PSNR Over Epochs\", fontsize=14)\n",
        "plt.legend()\n",
        "plt.grid()\n",
        "plt.show()"
      ],
      "metadata": {
        "colab": {
          "base_uri": "https://localhost:8080/",
          "height": 1000
        },
        "id": "m9JJ7LAve0oX",
        "outputId": "5e0b0d97-6fdf-4d2f-d330-c55953552d0a"
      },
      "execution_count": 10,
      "outputs": [
        {
          "output_type": "stream",
          "name": "stdout",
          "text": [
            "Epoch 1/50\n",
            "75/75 [==============================] - 121s 1s/step - loss: 0.2198 - peak_signal_noise_ratio: 61.6170 - val_loss: 0.1313 - val_peak_signal_noise_ratio: 65.6103 - lr: 1.0000e-04\n",
            "Epoch 2/50\n",
            "75/75 [==============================] - 80s 1s/step - loss: 0.1718 - peak_signal_noise_ratio: 63.5055 - val_loss: 0.1279 - val_peak_signal_noise_ratio: 65.6145 - lr: 1.0000e-04\n",
            "Epoch 3/50\n",
            "75/75 [==============================] - 71s 945ms/step - loss: 0.1624 - peak_signal_noise_ratio: 63.8900 - val_loss: 0.1317 - val_peak_signal_noise_ratio: 65.1716 - lr: 1.0000e-04\n",
            "Epoch 4/50\n",
            "75/75 [==============================] - 70s 939ms/step - loss: 0.1633 - peak_signal_noise_ratio: 63.8619 - val_loss: 0.1164 - val_peak_signal_noise_ratio: 66.3549 - lr: 1.0000e-04\n",
            "Epoch 5/50\n",
            "75/75 [==============================] - 71s 943ms/step - loss: 0.1664 - peak_signal_noise_ratio: 63.5782 - val_loss: 0.1216 - val_peak_signal_noise_ratio: 65.8809 - lr: 1.0000e-04\n",
            "Epoch 6/50\n",
            "75/75 [==============================] - 70s 939ms/step - loss: 0.1749 - peak_signal_noise_ratio: 63.4952 - val_loss: 0.1197 - val_peak_signal_noise_ratio: 66.0266 - lr: 1.0000e-04\n",
            "Epoch 7/50\n",
            "75/75 [==============================] - 71s 942ms/step - loss: 0.1644 - peak_signal_noise_ratio: 63.7675 - val_loss: 0.1204 - val_peak_signal_noise_ratio: 65.8658 - lr: 1.0000e-04\n",
            "Epoch 8/50\n",
            "75/75 [==============================] - 71s 943ms/step - loss: 0.1542 - peak_signal_noise_ratio: 64.2077 - val_loss: 0.1153 - val_peak_signal_noise_ratio: 66.4227 - lr: 1.0000e-04\n",
            "Epoch 9/50\n",
            "75/75 [==============================] - 80s 1s/step - loss: 0.1598 - peak_signal_noise_ratio: 63.9319 - val_loss: 0.1176 - val_peak_signal_noise_ratio: 66.4509 - lr: 1.0000e-04\n",
            "Epoch 10/50\n",
            "75/75 [==============================] - 80s 1s/step - loss: 0.1576 - peak_signal_noise_ratio: 64.0152 - val_loss: 0.1159 - val_peak_signal_noise_ratio: 66.3044 - lr: 1.0000e-04\n",
            "Epoch 11/50\n",
            "75/75 [==============================] - 70s 941ms/step - loss: 0.1525 - peak_signal_noise_ratio: 64.3085 - val_loss: 0.1184 - val_peak_signal_noise_ratio: 66.5723 - lr: 1.0000e-04\n",
            "Epoch 12/50\n",
            "75/75 [==============================] - 70s 941ms/step - loss: 0.1465 - peak_signal_noise_ratio: 64.6508 - val_loss: 0.1136 - val_peak_signal_noise_ratio: 66.8768 - lr: 1.0000e-04\n",
            "Epoch 13/50\n",
            "75/75 [==============================] - 80s 1s/step - loss: 0.1455 - peak_signal_noise_ratio: 64.8678 - val_loss: 0.1234 - val_peak_signal_noise_ratio: 66.4972 - lr: 1.0000e-04\n",
            "Epoch 14/50\n",
            "75/75 [==============================] - 71s 942ms/step - loss: 0.1473 - peak_signal_noise_ratio: 64.8383 - val_loss: 0.1146 - val_peak_signal_noise_ratio: 66.8325 - lr: 1.0000e-04\n",
            "Epoch 15/50\n",
            "75/75 [==============================] - 71s 942ms/step - loss: 0.1467 - peak_signal_noise_ratio: 64.9732 - val_loss: 0.1084 - val_peak_signal_noise_ratio: 67.1350 - lr: 1.0000e-04\n",
            "Epoch 16/50\n",
            "75/75 [==============================] - 70s 937ms/step - loss: 0.1482 - peak_signal_noise_ratio: 64.7597 - val_loss: 0.1158 - val_peak_signal_noise_ratio: 66.9836 - lr: 1.0000e-04\n",
            "Epoch 17/50\n",
            "75/75 [==============================] - 79s 1s/step - loss: 0.1439 - peak_signal_noise_ratio: 64.9124 - val_loss: 0.1150 - val_peak_signal_noise_ratio: 66.9349 - lr: 1.0000e-04\n",
            "Epoch 18/50\n",
            "75/75 [==============================] - 71s 942ms/step - loss: 0.1402 - peak_signal_noise_ratio: 65.1801 - val_loss: 0.1096 - val_peak_signal_noise_ratio: 67.3645 - lr: 1.0000e-04\n",
            "Epoch 19/50\n",
            "75/75 [==============================] - 70s 937ms/step - loss: 0.1395 - peak_signal_noise_ratio: 65.2925 - val_loss: 0.1113 - val_peak_signal_noise_ratio: 67.1285 - lr: 1.0000e-04\n",
            "Epoch 20/50\n",
            "75/75 [==============================] - 80s 1s/step - loss: 0.1369 - peak_signal_noise_ratio: 65.4434 - val_loss: 0.1256 - val_peak_signal_noise_ratio: 66.5258 - lr: 1.0000e-04\n",
            "Epoch 21/50\n",
            "75/75 [==============================] - 70s 940ms/step - loss: 0.1400 - peak_signal_noise_ratio: 65.2900 - val_loss: 0.1166 - val_peak_signal_noise_ratio: 67.0571 - lr: 1.0000e-04\n",
            "Epoch 22/50\n",
            "75/75 [==============================] - 71s 943ms/step - loss: 0.1435 - peak_signal_noise_ratio: 65.2407 - val_loss: 0.1231 - val_peak_signal_noise_ratio: 66.5538 - lr: 1.0000e-04\n",
            "Epoch 23/50\n",
            "75/75 [==============================] - ETA: 0s - loss: 0.1414 - peak_signal_noise_ratio: 65.1852\n",
            "Epoch 23: ReduceLROnPlateau reducing learning rate to 4.999999873689376e-05.\n",
            "75/75 [==============================] - 71s 940ms/step - loss: 0.1414 - peak_signal_noise_ratio: 65.1852 - val_loss: 0.1236 - val_peak_signal_noise_ratio: 66.7622 - lr: 1.0000e-04\n",
            "Epoch 24/50\n",
            "75/75 [==============================] - 70s 939ms/step - loss: 0.1454 - peak_signal_noise_ratio: 64.9235 - val_loss: 0.1069 - val_peak_signal_noise_ratio: 67.4382 - lr: 5.0000e-05\n",
            "Epoch 25/50\n",
            "75/75 [==============================] - 70s 937ms/step - loss: 0.1361 - peak_signal_noise_ratio: 65.5833 - val_loss: 0.1065 - val_peak_signal_noise_ratio: 67.5202 - lr: 5.0000e-05\n",
            "Epoch 26/50\n",
            "75/75 [==============================] - 70s 940ms/step - loss: 0.1337 - peak_signal_noise_ratio: 65.7435 - val_loss: 0.1096 - val_peak_signal_noise_ratio: 67.2198 - lr: 5.0000e-05\n",
            "Epoch 27/50\n",
            "75/75 [==============================] - 70s 939ms/step - loss: 0.1305 - peak_signal_noise_ratio: 65.8251 - val_loss: 0.1027 - val_peak_signal_noise_ratio: 67.6947 - lr: 5.0000e-05\n",
            "Epoch 28/50\n",
            "75/75 [==============================] - 70s 939ms/step - loss: 0.1242 - peak_signal_noise_ratio: 66.1865 - val_loss: 0.1139 - val_peak_signal_noise_ratio: 66.7709 - lr: 5.0000e-05\n",
            "Epoch 29/50\n",
            "75/75 [==============================] - 70s 939ms/step - loss: 0.1225 - peak_signal_noise_ratio: 66.4003 - val_loss: 0.1127 - val_peak_signal_noise_ratio: 66.7394 - lr: 5.0000e-05\n",
            "Epoch 30/50\n",
            "75/75 [==============================] - 70s 940ms/step - loss: 0.1236 - peak_signal_noise_ratio: 66.2518 - val_loss: 0.1041 - val_peak_signal_noise_ratio: 67.4816 - lr: 5.0000e-05\n",
            "Epoch 31/50\n",
            "75/75 [==============================] - 70s 941ms/step - loss: 0.1278 - peak_signal_noise_ratio: 66.0467 - val_loss: 0.1036 - val_peak_signal_noise_ratio: 67.5849 - lr: 5.0000e-05\n",
            "Epoch 32/50\n",
            "75/75 [==============================] - ETA: 0s - loss: 0.1285 - peak_signal_noise_ratio: 65.9661\n",
            "Epoch 32: ReduceLROnPlateau reducing learning rate to 2.499999936844688e-05.\n",
            "75/75 [==============================] - 70s 938ms/step - loss: 0.1285 - peak_signal_noise_ratio: 65.9661 - val_loss: 0.1032 - val_peak_signal_noise_ratio: 67.5509 - lr: 5.0000e-05\n",
            "Epoch 33/50\n",
            "75/75 [==============================] - 70s 934ms/step - loss: 0.1193 - peak_signal_noise_ratio: 66.6949 - val_loss: 0.1090 - val_peak_signal_noise_ratio: 67.3078 - lr: 2.5000e-05\n",
            "Epoch 34/50\n",
            "75/75 [==============================] - 70s 941ms/step - loss: 0.1191 - peak_signal_noise_ratio: 66.6520 - val_loss: 0.1056 - val_peak_signal_noise_ratio: 67.3013 - lr: 2.5000e-05\n",
            "Epoch 35/50\n",
            "75/75 [==============================] - 70s 941ms/step - loss: 0.1171 - peak_signal_noise_ratio: 66.8241 - val_loss: 0.1097 - val_peak_signal_noise_ratio: 66.9988 - lr: 2.5000e-05\n",
            "Epoch 36/50\n",
            "75/75 [==============================] - 70s 940ms/step - loss: 0.1191 - peak_signal_noise_ratio: 66.5754 - val_loss: 0.1153 - val_peak_signal_noise_ratio: 66.6156 - lr: 2.5000e-05\n",
            "Epoch 37/50\n",
            "75/75 [==============================] - ETA: 0s - loss: 0.1199 - peak_signal_noise_ratio: 66.5940\n",
            "Epoch 37: ReduceLROnPlateau reducing learning rate to 1.249999968422344e-05.\n",
            "75/75 [==============================] - 70s 932ms/step - loss: 0.1199 - peak_signal_noise_ratio: 66.5940 - val_loss: 0.1120 - val_peak_signal_noise_ratio: 66.7965 - lr: 2.5000e-05\n",
            "Epoch 38/50\n",
            "75/75 [==============================] - 70s 936ms/step - loss: 0.1189 - peak_signal_noise_ratio: 66.6848 - val_loss: 0.1063 - val_peak_signal_noise_ratio: 67.5486 - lr: 1.2500e-05\n",
            "Epoch 39/50\n",
            "75/75 [==============================] - 70s 941ms/step - loss: 0.1156 - peak_signal_noise_ratio: 66.8729 - val_loss: 0.1073 - val_peak_signal_noise_ratio: 67.2537 - lr: 1.2500e-05\n",
            "Epoch 40/50\n",
            "75/75 [==============================] - 70s 939ms/step - loss: 0.1150 - peak_signal_noise_ratio: 66.8736 - val_loss: 0.1066 - val_peak_signal_noise_ratio: 67.3235 - lr: 1.2500e-05\n",
            "Epoch 41/50\n",
            "75/75 [==============================] - 70s 935ms/step - loss: 0.1135 - peak_signal_noise_ratio: 66.9386 - val_loss: 0.1103 - val_peak_signal_noise_ratio: 67.0231 - lr: 1.2500e-05\n",
            "Epoch 42/50\n",
            "75/75 [==============================] - 71s 941ms/step - loss: 0.1130 - peak_signal_noise_ratio: 67.0489 - val_loss: 0.1001 - val_peak_signal_noise_ratio: 67.7598 - lr: 1.2500e-05\n",
            "Epoch 43/50\n",
            "75/75 [==============================] - 70s 939ms/step - loss: 0.1133 - peak_signal_noise_ratio: 67.0871 - val_loss: 0.1120 - val_peak_signal_noise_ratio: 66.7947 - lr: 1.2500e-05\n",
            "Epoch 44/50\n",
            "75/75 [==============================] - 70s 933ms/step - loss: 0.1134 - peak_signal_noise_ratio: 67.1683 - val_loss: 0.1106 - val_peak_signal_noise_ratio: 67.0630 - lr: 1.2500e-05\n",
            "Epoch 45/50\n",
            "75/75 [==============================] - 70s 940ms/step - loss: 0.1168 - peak_signal_noise_ratio: 66.8179 - val_loss: 0.1091 - val_peak_signal_noise_ratio: 67.1748 - lr: 1.2500e-05\n",
            "Epoch 46/50\n",
            "75/75 [==============================] - 70s 939ms/step - loss: 0.1073 - peak_signal_noise_ratio: 67.5175 - val_loss: 0.1007 - val_peak_signal_noise_ratio: 67.7764 - lr: 1.2500e-05\n",
            "Epoch 47/50\n",
            "75/75 [==============================] - 70s 937ms/step - loss: 0.1149 - peak_signal_noise_ratio: 66.9879 - val_loss: 0.1073 - val_peak_signal_noise_ratio: 67.5095 - lr: 1.2500e-05\n",
            "Epoch 48/50\n",
            "75/75 [==============================] - 70s 940ms/step - loss: 0.1124 - peak_signal_noise_ratio: 67.1661 - val_loss: 0.1074 - val_peak_signal_noise_ratio: 67.4590 - lr: 1.2500e-05\n",
            "Epoch 49/50\n",
            "75/75 [==============================] - 70s 939ms/step - loss: 0.1113 - peak_signal_noise_ratio: 67.2660 - val_loss: 0.1060 - val_peak_signal_noise_ratio: 67.4733 - lr: 1.2500e-05\n",
            "Epoch 50/50\n",
            "75/75 [==============================] - 70s 940ms/step - loss: 0.1117 - peak_signal_noise_ratio: 67.2173 - val_loss: 0.1090 - val_peak_signal_noise_ratio: 67.3992 - lr: 1.2500e-05\n"
          ]
        },
        {
          "output_type": "display_data",
          "data": {
            "text/plain": [
              "<Figure size 432x288 with 1 Axes>"
            ],
            "image/png": "[encoded data removed]"
          },
          "metadata": {
            "needs_background": "light"
          }
        },
        {
          "output_type": "display_data",
          "data": {
            "text/plain": [
              "<Figure size 432x288 with 1 Axes>"
            ],
            "image/png": "[encoded data removed]"
          },
          "metadata": {
            "needs_background": "light"
          }
        }
      ]
    },
    {
      "cell_type": "code",
      "source": [
        "def plot_results(images, titles, figure_size=(12, 12)):\n",
        "    fig = plt.figure(figsize=figure_size)\n",
        "    for i in range(len(images)):\n",
        "        fig.add_subplot(1, len(images), i + 1).set_title(titles[i])\n",
        "        _ = plt.imshow(images[i])\n",
        "        plt.axis(\"off\")\n",
        "    plt.show()\n",
        "\n",
        "\n",
        "def infer(original_image):\n",
        "    image = keras.preprocessing.image.img_to_array(original_image)\n",
        "    image = image.astype(\"float32\") / 255.0\n",
        "    image = np.expand_dims(image, axis=0)\n",
        "    output = model.predict(image)\n",
        "    output_image = output[0] * 255.0\n",
        "    output_image = output_image.clip(0, 255)\n",
        "    output_image = output_image.reshape(\n",
        "        (np.shape(output_image)[0], np.shape(output_image)[1], 3)\n",
        "    )\n",
        "    output_image = Image.fromarray(np.uint8(output_image))\n",
        "    original_image = Image.fromarray(np.uint8(original_image))\n",
        "    return output_image"
      ],
      "metadata": {
        "id": "Xil5G_Sde9FR"
      },
      "execution_count": 11,
      "outputs": []
    },
    {
      "cell_type": "code",
      "source": [
        "model.save('MIRNet_v2.hdf5')"
      ],
      "metadata": {
        "id": "rdVVVNkz72v9"
      },
      "execution_count": 12,
      "outputs": []
    }
  ]
}